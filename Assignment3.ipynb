{
  "cells": [
    {
      "cell_type": "markdown",
      "metadata": {
        "id": "sHoYilv53Rov"
      },
      "source": [
        "Randomized Quicksort"
      ]
    },
    {
      "cell_type": "code",
      "execution_count": 1,
      "metadata": {
        "id": "1vIwXmEV3GJ8"
      },
      "outputs": [
        {
          "name": "stdout",
          "output_type": "stream",
          "text": [
            "Original array: [10, 7, 8, 9, 1, 5]\n",
            "Sorted array: [1, 5, 7, 8, 9, 10]\n"
          ]
        }
      ],
      "source": [
        "import random\n",
        "\n",
        "# Randomized Quicksort implementation\n",
        "def randomized_partition(arr, low, high):\n",
        "    # Choose a random pivot\n",
        "    pivot_index = random.randint(low, high)\n",
        "    arr[pivot_index], arr[high] = arr[high], arr[pivot_index]  # Swap pivot with last element\n",
        "    return partition(arr, low, high)\n",
        "\n",
        "def partition(arr, low, high):\n",
        "    pivot = arr[high]\n",
        "    i = low - 1\n",
        "    for j in range(low, high):\n",
        "        if arr[j] < pivot:\n",
        "            i += 1\n",
        "            arr[i], arr[j] = arr[j], arr[i]\n",
        "    arr[i + 1], arr[high] = arr[high], arr[i + 1]\n",
        "    return i + 1\n",
        "\n",
        "def randomized_quicksort(arr, low, high):\n",
        "    if low < high:\n",
        "        pi = randomized_partition(arr, low, high)\n",
        "        randomized_quicksort(arr, low, pi - 1)\n",
        "        randomized_quicksort(arr, pi + 1, high)\n",
        "\n",
        "# Helper function to call the randomized quicksort\n",
        "def quicksort(arr):\n",
        "    randomized_quicksort(arr, 0, len(arr) - 1)\n",
        "\n",
        "# Example usage\n",
        "arr = [10, 7, 8, 9, 1, 5]\n",
        "print(\"Original array:\", arr)\n",
        "quicksort(arr)\n",
        "print(\"Sorted array:\", arr)\n"
      ]
    },
    {
      "cell_type": "markdown",
      "metadata": {
        "id": "H7ewKe5I3dyn"
      },
      "source": [
        "Hashing with Chaining"
      ]
    },
    {
      "cell_type": "code",
      "execution_count": 2,
      "metadata": {
        "id": "oi4UFECO3j4A"
      },
      "outputs": [
        {
          "name": "stdout",
          "output_type": "stream",
          "text": [
            "Value for 'apple': 100\n",
            "Value for 'banana': 200\n",
            "Value for 'apple' after deletion: None\n"
          ]
        }
      ],
      "source": [
        "class HashTableChaining:\n",
        "    def __init__(self, size=10):\n",
        "        self.size = size\n",
        "        self.table = [[] for _ in range(self.size)]  # Create a list of empty lists (chains)\n",
        "        self.num_elements = 0\n",
        "\n",
        "    def hash_function(self, key):\n",
        "        \"\"\"Simple hash function: modulo the size of the table.\"\"\"\n",
        "        return hash(key) % self.size\n",
        "\n",
        "    def insert(self, key, value):\n",
        "        \"\"\"Insert a key-value pair into the hash table.\"\"\"\n",
        "        hash_index = self.hash_function(key)\n",
        "        # Check if the key already exists and update it\n",
        "        for pair in self.table[hash_index]:\n",
        "            if pair[0] == key:\n",
        "                pair[1] = value\n",
        "                return\n",
        "        # If not, insert a new key-value pair\n",
        "        self.table[hash_index].append([key, value])\n",
        "        self.num_elements += 1\n",
        "        # Optionally resize the table if load factor becomes too large\n",
        "        if self.num_elements / self.size > 0.7:\n",
        "            self.resize()\n",
        "\n",
        "    def search(self, key):\n",
        "        \"\"\"Search for a key in the hash table and return its value if found.\"\"\"\n",
        "        hash_index = self.hash_function(key)\n",
        "        for pair in self.table[hash_index]:\n",
        "            if pair[0] == key:\n",
        "                return pair[1]\n",
        "        return None  # Key not found\n",
        "\n",
        "    def delete(self, key):\n",
        "        \"\"\"Remove a key-value pair from the hash table.\"\"\"\n",
        "        hash_index = self.hash_function(key)\n",
        "        for i, pair in enumerate(self.table[hash_index]):\n",
        "            if pair[0] == key:\n",
        "                del self.table[hash_index][i]\n",
        "                self.num_elements -= 1\n",
        "                return True\n",
        "        return False  # Key not found\n",
        "\n",
        "    def resize(self):\n",
        "        \"\"\"Resize the table to maintain a low load factor.\"\"\"\n",
        "        new_size = self.size * 2\n",
        "        new_table = [[] for _ in range(new_size)]\n",
        "        # Rehash all existing keys\n",
        "        for chain in self.table:\n",
        "            for key, value in chain:\n",
        "                hash_index = hash(key) % new_size\n",
        "                new_table[hash_index].append([key, value])\n",
        "        self.table = new_table\n",
        "        self.size = new_size\n",
        "\n",
        "# Example usage\n",
        "hash_table = HashTableChaining()\n",
        "hash_table.insert(\"apple\", 100)\n",
        "hash_table.insert(\"banana\", 200)\n",
        "hash_table.insert(\"orange\", 300)\n",
        "\n",
        "print(\"Value for 'apple':\", hash_table.search(\"apple\"))  # Output: 100\n",
        "print(\"Value for 'banana':\", hash_table.search(\"banana\"))  # Output: 200\n",
        "\n",
        "hash_table.delete(\"apple\")\n",
        "print(\"Value for 'apple' after deletion:\", hash_table.search(\"apple\"))  # Output: None"
      ]
    }
  ],
  "metadata": {
    "colab": {
      "private_outputs": true,
      "provenance": []
    },
    "kernelspec": {
      "display_name": "Python 3",
      "name": "python3"
    },
    "language_info": {
      "codemirror_mode": {
        "name": "ipython",
        "version": 3
      },
      "file_extension": ".py",
      "mimetype": "text/x-python",
      "name": "python",
      "nbconvert_exporter": "python",
      "pygments_lexer": "ipython3",
      "version": "3.12.2"
    }
  },
  "nbformat": 4,
  "nbformat_minor": 0
}
